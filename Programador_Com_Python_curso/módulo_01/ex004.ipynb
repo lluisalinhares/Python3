{
 "cells": [
  {
   "cell_type": "code",
   "execution_count": 15,
   "id": "f45293a0",
   "metadata": {},
   "outputs": [
    {
     "name": "stdout",
     "output_type": "stream",
     "text": [
      "Em que ano você nasceu?1992\n",
      "Você é adulto  \n"
     ]
    }
   ],
   "source": [
    "#Averiguar se é maior de idade ou não.\n",
    "\n",
    "#IF\n",
    "\n",
    "resposta = input('Em que ano você nasceu? ')\n",
    "if resposta <= '2006':\n",
    "    print('Você é adulto  ')\n",
    "else:\n",
    "    print('Você não é adulto  ')"
   ]
  },
  {
   "cell_type": "code",
   "execution_count": 8,
   "id": "6721cb5b",
   "metadata": {},
   "outputs": [
    {
     "name": "stdout",
     "output_type": "stream",
     "text": [
      "Em que ano você nasceu?2007\n",
      "Você não é adulto  \n"
     ]
    }
   ],
   "source": [
    "#Averiguar se é maior de idade ou não.\n",
    "\n",
    "#ELSE\n",
    "\n",
    "resposta = input('Em que ano você nasceu? ')\n",
    "if resposta <= '2006':\n",
    "    print('Você é adulto  ')\n",
    "else:\n",
    "    print('Você não é adulto  ')"
   ]
  },
  {
   "cell_type": "code",
   "execution_count": 14,
   "id": "8d3af9af",
   "metadata": {},
   "outputs": [
    {
     "name": "stdout",
     "output_type": "stream",
     "text": [
      "Em que ano você nasceu?  1992\n",
      "Você é maior de idade\n"
     ]
    }
   ],
   "source": [
    "#Averiguar se é maior de idade ou não, com uso de variáveis para realizar o cáuculo.\n",
    "\n",
    "# IF\n",
    "\n",
    "ano_atual = 2024\n",
    "\n",
    "resposta = int(input('Em que ano você nasceu?  '))\n",
    "resposta =  ano_atual - resposta\n",
    "if resposta >= 18:\n",
    "    print('Você é maior de idade')\n",
    "else:\n",
    "    print('Você não é maior de idade')"
   ]
  },
  {
   "cell_type": "code",
   "execution_count": 13,
   "id": "f594b874",
   "metadata": {},
   "outputs": [
    {
     "name": "stdout",
     "output_type": "stream",
     "text": [
      "Em que ano você nasceu?  2007\n",
      "Você não é maior de idade\n"
     ]
    }
   ],
   "source": [
    "#Averiguar se é maior de idade ou não, com uso de variáveis para realizar o cáuculo.\n",
    "\n",
    "#ELSE\n",
    "\n",
    "ano_atual = 2024\n",
    "\n",
    "resposta = int(input('Em que ano você nasceu?  '))\n",
    "resposta =  ano_atual - resposta\n",
    "if resposta >= 18:\n",
    "    print('Você é maior de idade')\n",
    "else:\n",
    "    print('Você não é maior de idade')"
   ]
  }
 ],
 "metadata": {
  "kernelspec": {
   "display_name": "Python 3 (ipykernel)",
   "language": "python",
   "name": "python3"
  },
  "language_info": {
   "codemirror_mode": {
    "name": "ipython",
    "version": 3
   },
   "file_extension": ".py",
   "mimetype": "text/x-python",
   "name": "python",
   "nbconvert_exporter": "python",
   "pygments_lexer": "ipython3",
   "version": "3.11.5"
  }
 },
 "nbformat": 4,
 "nbformat_minor": 5
}
