{
 "cells": [
  {
   "cell_type": "code",
   "execution_count": 17,
   "id": "72d21be4",
   "metadata": {},
   "outputs": [
    {
     "name": "stdout",
     "output_type": "stream",
     "text": [
      "Olá, Mundo!\n",
      "Aqui vou fazer uso de alguns operadores: \n"
     ]
    }
   ],
   "source": [
    "print('Hello, World')\n",
    "print('Aqui vou fazer uso de alguns operadores: ')"
   ]
  },
  {
   "cell_type": "code",
   "execution_count": 10,
   "id": "8f849387",
   "metadata": {
    "scrolled": true
   },
   "outputs": [
    {
     "name": "stdout",
     "output_type": "stream",
     "text": [
      "2.5\n",
      "10\n",
      "7\n",
      "3\n"
     ]
    }
   ],
   "source": [
    "#Divisão\n",
    "print(5/2)\n",
    "#Multilicação\n",
    "print(5*2)\n",
    "#Adição\n",
    "print(5+2)\n",
    "#Subtração\n",
    "print(5-2)"
   ]
  },
  {
   "cell_type": "code",
   "execution_count": 13,
   "id": "f237bede",
   "metadata": {},
   "outputs": [
    {
     "name": "stdout",
     "output_type": "stream",
     "text": [
      "2\n"
     ]
    }
   ],
   "source": [
    "#Para imprimir apenas a parte inteira do resultado\n",
    "print(5//2)"
   ]
  },
  {
   "cell_type": "code",
   "execution_count": 14,
   "id": "741f5984",
   "metadata": {},
   "outputs": [
    {
     "name": "stdout",
     "output_type": "stream",
     "text": [
      "1\n"
     ]
    }
   ],
   "source": [
    "#Para imprimir o resto da divisão\n",
    "print(5%2)"
   ]
  },
  {
   "cell_type": "code",
   "execution_count": 18,
   "id": "ffdb2826",
   "metadata": {},
   "outputs": [
    {
     "name": "stdout",
     "output_type": "stream",
     "text": [
      "Quanto é 2 + 3?  Resposta:  5\n"
     ]
    }
   ],
   "source": [
    "print('Quanto é 2 + 3? ', 'Resposta: ', 2 + 3)"
   ]
  }
 ],
 "metadata": {
  "kernelspec": {
   "display_name": "Python 3 (ipykernel)",
   "language": "python",
   "name": "python3"
  },
  "language_info": {
   "codemirror_mode": {
    "name": "ipython",
    "version": 3
   },
   "file_extension": ".py",
   "mimetype": "text/x-python",
   "name": "python",
   "nbconvert_exporter": "python",
   "pygments_lexer": "ipython3",
   "version": "3.11.5"
  }
 },
 "nbformat": 4,
 "nbformat_minor": 5
}
