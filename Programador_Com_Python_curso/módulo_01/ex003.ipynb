{
 "cells": [
  {
   "cell_type": "code",
   "execution_count": 1,
   "id": "0df758b2",
   "metadata": {},
   "outputs": [
    {
     "name": "stdout",
     "output_type": "stream",
     "text": [
      "Esta é a comida mais gostoa que sei fazer!\n"
     ]
    }
   ],
   "source": [
    "# IF\n",
    "\n",
    "comida = 'Pizza'\n",
    "if comida == 'Pizza':\n",
    "    print('Esta é a comida mais gostoa que sei fazer!')"
   ]
  },
  {
   "cell_type": "code",
   "execution_count": 2,
   "id": "ded8de1c",
   "metadata": {},
   "outputs": [
    {
     "name": "stdout",
     "output_type": "stream",
     "text": [
      "Que pena\n"
     ]
    }
   ],
   "source": [
    "# ELSE\n",
    "\n",
    "comida = 'macarrao'\n",
    "if comida == 'Pizza':\n",
    "    print('Esta é a comida mais gostoa que sei fazer!')\n",
    "else:\n",
    "    print('Que pena')"
   ]
  },
  {
   "cell_type": "code",
   "execution_count": 4,
   "id": "580e125b",
   "metadata": {},
   "outputs": [
    {
     "name": "stdout",
     "output_type": "stream",
     "text": [
      "bote aqui uma comida  miojo\n",
      "Esse é ruim demais\n"
     ]
    }
   ],
   "source": [
    "# ELIF (else+if)\n",
    "\n",
    "comida = input('bote aqui uma comida  ')\n",
    "if comida == 'pizza':\n",
    "    print('Esta é a comida mais gostoa que sei fazer!')\n",
    "elif comida == 'macarrao':\n",
    "    print('É gostoso também')\n",
    "elif comida == 'miojo':\n",
    "    print('Esse é ruim demais')"
   ]
  },
  {
   "cell_type": "code",
   "execution_count": 5,
   "id": "962f233a",
   "metadata": {},
   "outputs": [
    {
     "name": "stdout",
     "output_type": "stream",
     "text": [
      "Insira um mês do ano:  junho\n",
      "É o sexto mês do ano\n"
     ]
    }
   ],
   "source": [
    "# ELIF \n",
    "\n",
    "mes = input('Insira um mês do ano:  ')\n",
    "if mes == 'janeiro':\n",
    "    print('É o primeiro mês do ano')\n",
    "elif mes == 'fevereiro':\n",
    "    print('É o segundo mês do ano')\n",
    "elif mes == 'março':\n",
    "    print('É o terceiro mês do ano')\n",
    "elif mes == 'abril':\n",
    "    print('É o quarto mês do ano')\n",
    "elif mes == 'maio':\n",
    "    print('É o quinto mês do ano')\n",
    "elif mes == 'junho':\n",
    "    print('É o sexto mês do ano')\n",
    "elif mes == 'julho':\n",
    "    print('É o sétimo mês do ano')\n",
    "elif mes == 'agosto':\n",
    "    print('É o oitavo mês do ano')\n",
    "elif mes == 'setembro':\n",
    "    print('É o nono mês do ano')\n",
    "elif mes == 'outubro':\n",
    "    print('É o décimo mês do ano')\n",
    "elif mes == 'novembro':\n",
    "    print('É o décimo primeiro mês do ano')\n",
    "elif mes == 'dezembro':\n",
    "    print('É o último mês do ano')"
   ]
  },
  {
   "cell_type": "code",
   "execution_count": 7,
   "id": "2ff25ca3",
   "metadata": {},
   "outputs": [
    {
     "name": "stdout",
     "output_type": "stream",
     "text": [
      "Insira um mês do ano:  lliyugh\n",
      "Desconheço esse mês\n"
     ]
    }
   ],
   "source": [
    "# Caso ELSE do exemplo acima\n",
    "\n",
    "mes = input('Insira um mês do ano:  ')\n",
    "if mes == 'janeiro':\n",
    "    print('É o primeiro mês do ano')\n",
    "elif mes == 'fevereiro':\n",
    "    print('É o segundo mês do ano')\n",
    "elif mes == 'março':\n",
    "    print('É o terceiro mês do ano')\n",
    "elif mes == 'abril':\n",
    "    print('É o quarto mês do ano')\n",
    "elif mes == 'maio':\n",
    "    print('É o quinto mês do ano')\n",
    "elif mes == 'junho':\n",
    "    print('É o sexto mês do ano')\n",
    "elif mes == 'julho':\n",
    "    print('É o sétimo mês do ano')\n",
    "elif mes == 'agosto':\n",
    "    print('É o oitavo mês do ano')\n",
    "elif mes == 'setembro':\n",
    "    print('É o nono mês do ano')\n",
    "elif mes == 'outubro':\n",
    "    print('É o décimo mês do ano')\n",
    "elif mes == 'novembro':\n",
    "    print('É o décimo primeiro mês do ano')\n",
    "elif mes == 'dezembro':\n",
    "    print('É o último mês do ano')\n",
    "else: \n",
    "    print('Desconheço esse mês')"
   ]
  }
 ],
 "metadata": {
  "kernelspec": {
   "display_name": "Python 3 (ipykernel)",
   "language": "python",
   "name": "python3"
  },
  "language_info": {
   "codemirror_mode": {
    "name": "ipython",
    "version": 3
   },
   "file_extension": ".py",
   "mimetype": "text/x-python",
   "name": "python",
   "nbconvert_exporter": "python",
   "pygments_lexer": "ipython3",
   "version": "3.11.5"
  }
 },
 "nbformat": 4,
 "nbformat_minor": 5
}
