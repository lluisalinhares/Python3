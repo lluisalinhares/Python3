{
 "cells": [
  {
   "cell_type": "code",
   "execution_count": null,
   "id": "55698b68",
   "metadata": {},
   "outputs": [],
   "source": [
    "#Dicionários\n",
    "#São definidos por conterem elementos dentro de chaves;\n",
    "#portanto, é o uso desse símbolo{} que define um dicionário.\n",
    "\n",
    "#Um dicionário também é caracterizado por conter dentro das chaves{} um par de {\"chave\": \"valor\"}."
   ]
  },
  {
   "cell_type": "code",
   "execution_count": 9,
   "id": "1539fc9e",
   "metadata": {},
   "outputs": [],
   "source": [
    "#Exemplo de criação de um dicionário:\n",
    "dicio = {\"carro\": \"vermelho\", \"ano\": 2016, \"único dono\": \"sim\"}"
   ]
  },
  {
   "cell_type": "code",
   "execution_count": 10,
   "id": "07e84a84",
   "metadata": {},
   "outputs": [
    {
     "data": {
      "text/plain": [
       "dict_keys(['carro', 'ano', 'único dono'])"
      ]
     },
     "execution_count": 10,
     "metadata": {},
     "output_type": "execute_result"
    }
   ],
   "source": [
    "#Uso da função .keys() que seleciona as chaves contidas no dicionário.\n",
    "dicio.keys()"
   ]
  },
  {
   "cell_type": "code",
   "execution_count": 20,
   "id": "db519dd3",
   "metadata": {},
   "outputs": [
    {
     "data": {
      "text/plain": [
       "dict_values(['aprendendo python', 'praticando python'])"
      ]
     },
     "execution_count": 20,
     "metadata": {},
     "output_type": "execute_result"
    }
   ],
   "source": [
    "#Uso da função values() que seleciona os valores contidos no dicionário.\n",
    "dicio.values()"
   ]
  },
  {
   "cell_type": "code",
   "execution_count": 21,
   "id": "430c8b5c",
   "metadata": {},
   "outputs": [
    {
     "data": {
      "text/plain": [
       "dict_items([('info1', 'aprendendo python'), ('info2', 'praticando python')])"
      ]
     },
     "execution_count": 21,
     "metadata": {},
     "output_type": "execute_result"
    }
   ],
   "source": [
    "#Uso da função .items() que seleciona os pares chave-valor que compõe o dicionário.\n",
    "dicio.items()"
   ]
  },
  {
   "cell_type": "code",
   "execution_count": 22,
   "id": "38c2f813",
   "metadata": {},
   "outputs": [],
   "source": [
    "#Função clear() que limpa/apaga todo conteúdo do dicionário.\n",
    "dicio.clear()"
   ]
  },
  {
   "cell_type": "code",
   "execution_count": 23,
   "id": "9b644012",
   "metadata": {},
   "outputs": [
    {
     "name": "stdout",
     "output_type": "stream",
     "text": [
      "{}\n"
     ]
    }
   ],
   "source": [
    "print(dicio)"
   ]
  },
  {
   "cell_type": "code",
   "execution_count": 24,
   "id": "015d5b9f",
   "metadata": {},
   "outputs": [
    {
     "name": "stdout",
     "output_type": "stream",
     "text": [
      "{'info1': 'aprendendo python'}\n"
     ]
    }
   ],
   "source": [
    "#Adicionando items no dicionário vazio:\n",
    "\n",
    "      #chave        #valor\n",
    "dicio[\"info1\"] = \"aprendendo python\"\n",
    "print(dicio)"
   ]
  },
  {
   "cell_type": "code",
   "execution_count": 25,
   "id": "48968128",
   "metadata": {},
   "outputs": [
    {
     "name": "stdout",
     "output_type": "stream",
     "text": [
      "{'info1': 'aprendendo python', 'info2': 'praticando python'}\n"
     ]
    }
   ],
   "source": [
    "#Adicionando mais itens:\n",
    "\n",
    "dicio[\"info2\"] = \"praticando python\"\n",
    "print(dicio)"
   ]
  }
 ],
 "metadata": {
  "kernelspec": {
   "display_name": "Python 3 (ipykernel)",
   "language": "python",
   "name": "python3"
  },
  "language_info": {
   "codemirror_mode": {
    "name": "ipython",
    "version": 3
   },
   "file_extension": ".py",
   "mimetype": "text/x-python",
   "name": "python",
   "nbconvert_exporter": "python",
   "pygments_lexer": "ipython3",
   "version": "3.11.5"
  }
 },
 "nbformat": 4,
 "nbformat_minor": 5
}
