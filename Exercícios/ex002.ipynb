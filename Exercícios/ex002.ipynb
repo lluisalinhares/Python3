{
 "cells": [
  {
   "cell_type": "code",
   "execution_count": 44,
   "id": "b310f5c5",
   "metadata": {},
   "outputs": [],
   "source": [
    "fruta = 'Laranja'\n",
    "cor1 = 'azul'\n",
    "cor2 = 'verde'"
   ]
  },
  {
   "cell_type": "code",
   "execution_count": 8,
   "id": "946f1752",
   "metadata": {},
   "outputs": [
    {
     "name": "stdout",
     "output_type": "stream",
     "text": [
      "Suco de Laranja é o meu favorito \n"
     ]
    }
   ],
   "source": [
    "#Essa é uma outra forma de imprimir uma variável:\n",
    "\n",
    "print('Suco de %s é o meu favorito ' %fruta)"
   ]
  },
  {
   "cell_type": "code",
   "execution_count": 9,
   "id": "72709ddd",
   "metadata": {},
   "outputs": [],
   "source": [
    "#No exemplo acima, o símbolo de porcentagem indica que uma variável vai compor aquele espaço \n",
    "#e o \"s\" indica que o tipo desta variável é uma string.\n",
    "#Se fosse uma variável de tipo numérica (inteiro), a letra depois da porcentagem seria \"d\", de Decimal.\n",
    "#E se fosse do tipo float, a letra seria \"f\". "
   ]
  },
  {
   "cell_type": "code",
   "execution_count": 10,
   "id": "d8d0454c",
   "metadata": {},
   "outputs": [
    {
     "name": "stdout",
     "output_type": "stream",
     "text": [
      "Suco de Laranja é o meu favorito\n"
     ]
    }
   ],
   "source": [
    "#Outra forma de imprimir variaveis é com o comando .format(), veja exemplo abaixo:\n",
    "\n",
    "print('Suco de {} é o meu favorito' .format(fruta))"
   ]
  },
  {
   "cell_type": "code",
   "execution_count": 27,
   "id": "9eb098ee",
   "metadata": {
    "scrolled": true
   },
   "outputs": [
    {
     "name": "stdout",
     "output_type": "stream",
     "text": [
      "Meu suco favorito é Laranja, a cor do céu é azul, e a cor da grama é verde.\n"
     ]
    }
   ],
   "source": [
    "#Ainda com o .format(), mas utilizando mais de uma variável, colocando-as em ordem:\n",
    "\n",
    "print('Meu suco favorito é {0}, a cor do céu é {1}, e a cor da grama é {2}.' .format(fruta, cor1, cor2))"
   ]
  },
  {
   "cell_type": "code",
   "execution_count": 32,
   "id": "8872d971",
   "metadata": {},
   "outputs": [],
   "source": [
    "conta = 17/3"
   ]
  },
  {
   "cell_type": "code",
   "execution_count": 33,
   "id": "3f98abf2",
   "metadata": {},
   "outputs": [
    {
     "name": "stdout",
     "output_type": "stream",
     "text": [
      "Fiz uma conta e o resultado é este: 5.666666666666667\n"
     ]
    }
   ],
   "source": [
    "print('Fiz uma conta e o resultado é este: {}' .format(conta))"
   ]
  },
  {
   "cell_type": "code",
   "execution_count": 39,
   "id": "0f09de69",
   "metadata": {},
   "outputs": [
    {
     "name": "stdout",
     "output_type": "stream",
     "text": [
      "Fiz uma conta e o resultado é este: 5.67\n",
      "Fiz a mesma conta, mas quero apresentar com mais números após a virgula: 5.6667\n"
     ]
    }
   ],
   "source": [
    "#Se quiser apresentar o resultado do exemplo acima com quantidade de números especifica depois da vírgula, \n",
    "#usar o comando: {:.2f},\n",
    "#no caso, aqui o comando determina 2 números após a vírgula, mas pode ser qualquer quantidade. Seguem os exemplos:\n",
    "\n",
    "print('Fiz uma conta e o resultado é este: {:.2f}' .format(conta))\n",
    "\n",
    "# E no exemplo abaixo, com 4 casas após a vírgula:\n",
    "\n",
    "print('Fiz a mesma conta, mas quero apresentar com mais números após a virgula: {:.4f}' .format(conta))"
   ]
  }
 ],
 "metadata": {
  "kernelspec": {
   "display_name": "Python 3 (ipykernel)",
   "language": "python",
   "name": "python3"
  },
  "language_info": {
   "codemirror_mode": {
    "name": "ipython",
    "version": 3
   },
   "file_extension": ".py",
   "mimetype": "text/x-python",
   "name": "python",
   "nbconvert_exporter": "python",
   "pygments_lexer": "ipython3",
   "version": "3.11.5"
  }
 },
 "nbformat": 4,
 "nbformat_minor": 5
}
