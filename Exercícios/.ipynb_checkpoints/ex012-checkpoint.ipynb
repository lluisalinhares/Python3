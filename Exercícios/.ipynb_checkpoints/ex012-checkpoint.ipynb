{
 "cells": [
  {
   "cell_type": "markdown",
   "id": "3c1da006",
   "metadata": {},
   "source": [
    "   # Introdução aos Dicionários <br>"
   ]
  },
  {
   "cell_type": "code",
   "execution_count": null,
   "id": "55698b68",
   "metadata": {},
   "outputs": [],
   "source": [
    "#São definidos por conterem elementos dentro de chaves.\n",
    "\n",
    "#Um dicionário também é caracterizado por conter dentro das chaves{} um par de {\"chave\": \"valor\"}."
   ]
  },
  {
   "cell_type": "markdown",
   "id": "0a45d5d6",
   "metadata": {},
   "source": [
    "### Manipulando dicionários com comandos básicos "
   ]
  },
  {
   "cell_type": "code",
   "execution_count": null,
   "id": "ee8d7f52",
   "metadata": {},
   "outputs": [],
   "source": [
    "#Exemplo de criação de um dicionário:\n",
    "\n",
    "dicio = {\"carro\": \"vermelho\", \"ano\": 2016, \"único dono\": \"sim\"}\n",
    "print(dicio)"
   ]
  },
  {
   "cell_type": "code",
   "execution_count": 99,
   "id": "5ce6ddde",
   "metadata": {},
   "outputs": [],
   "source": [
    "#Também é possível criar um dicionário vazio:\n",
    "\n",
    "dicio2 = {}"
   ]
  },
  {
   "cell_type": "code",
   "execution_count": 118,
   "id": "015d5b9f",
   "metadata": {},
   "outputs": [
    {
     "name": "stdout",
     "output_type": "stream",
     "text": [
      "{'lang': 'python'}\n"
     ]
    }
   ],
   "source": [
    "#Adicionando items no dicionário vazio:\n",
    "\n",
    "       #chave     #valor\n",
    "dicio2[\"lang\"] = \"python\"\n",
    "print(dicio2)"
   ]
  },
  {
   "cell_type": "code",
   "execution_count": 119,
   "id": "48968128",
   "metadata": {},
   "outputs": [
    {
     "name": "stdout",
     "output_type": "stream",
     "text": [
      "{'lang': 'python', 'atividade': 'praticando python'}\n"
     ]
    }
   ],
   "source": [
    "#Adicionando mais itens:\n",
    "\n",
    "dicio2[\"atividade\"] = \"praticando python\"\n",
    "print(dicio2)"
   ]
  },
  {
   "cell_type": "code",
   "execution_count": 122,
   "id": "ac8c6ea5",
   "metadata": {},
   "outputs": [
    {
     "data": {
      "text/plain": [
       "'python'"
      ]
     },
     "execution_count": 122,
     "metadata": {},
     "output_type": "execute_result"
    }
   ],
   "source": [
    "#Consultando o VALOR através da chave:\n",
    "\n",
    "dicio2[\"lang\"]"
   ]
  },
  {
   "cell_type": "code",
   "execution_count": 123,
   "id": "107c0189",
   "metadata": {},
   "outputs": [
    {
     "data": {
      "text/plain": [
       "'praticando python'"
      ]
     },
     "execution_count": 123,
     "metadata": {},
     "output_type": "execute_result"
    }
   ],
   "source": [
    "dicio2[\"atividade\"]"
   ]
  },
  {
   "cell_type": "code",
   "execution_count": 124,
   "id": "2a0c9010",
   "metadata": {},
   "outputs": [
    {
     "name": "stdout",
     "output_type": "stream",
     "text": [
      "python\n"
     ]
    }
   ],
   "source": [
    "#Atribuindo o VALOR a uma variável através da passagem da chave:\n",
    "\n",
    "\n",
    "a = dicio2[\"lang\"]\n",
    "print(a)\n",
    "\n",
    "#Ou seja, a variável \"a\" recebe o VALOR através da chave."
   ]
  },
  {
   "cell_type": "code",
   "execution_count": 129,
   "id": "33db3167",
   "metadata": {},
   "outputs": [],
   "source": [
    "#MODIFICANDO o valor da chave:\n",
    "\n",
    "dicio2[\"lang\"] = \"python3\""
   ]
  },
  {
   "cell_type": "code",
   "execution_count": 130,
   "id": "cfe5567e",
   "metadata": {},
   "outputs": [
    {
     "data": {
      "text/plain": [
       "'python3'"
      ]
     },
     "execution_count": 130,
     "metadata": {},
     "output_type": "execute_result"
    }
   ],
   "source": [
    "dicio2[\"lang\"]"
   ]
  },
  {
   "cell_type": "markdown",
   "id": "7aafec92",
   "metadata": {},
   "source": [
    "   ### Manipulando dicionários com o uso de funções "
   ]
  },
  {
   "cell_type": "code",
   "execution_count": 74,
   "id": "07e84a84",
   "metadata": {},
   "outputs": [
    {
     "data": {
      "text/plain": [
       "dict_keys(['carro', 'ano', 'único dono'])"
      ]
     },
     "execution_count": 74,
     "metadata": {},
     "output_type": "execute_result"
    }
   ],
   "source": [
    "#Função .keys() seleciona as CHAVES contidas no dicionário:\n",
    "\n",
    "dicio.keys()"
   ]
  },
  {
   "cell_type": "code",
   "execution_count": 75,
   "id": "db519dd3",
   "metadata": {},
   "outputs": [
    {
     "data": {
      "text/plain": [
       "dict_values(['vermelho', 2016, 'sim'])"
      ]
     },
     "execution_count": 75,
     "metadata": {},
     "output_type": "execute_result"
    }
   ],
   "source": [
    "#Função values() seleciona os VALORES contidos no dicionário:\n",
    "\n",
    "dicio.values()"
   ]
  },
  {
   "cell_type": "code",
   "execution_count": 76,
   "id": "430c8b5c",
   "metadata": {},
   "outputs": [
    {
     "data": {
      "text/plain": [
       "dict_items([('carro', 'vermelho'), ('ano', 2016), ('único dono', 'sim')])"
      ]
     },
     "execution_count": 76,
     "metadata": {},
     "output_type": "execute_result"
    }
   ],
   "source": [
    "#Função .items() seleciona os pares chave-valor que compõe o dicionário:\n",
    "\n",
    "dicio.items()"
   ]
  },
  {
   "cell_type": "code",
   "execution_count": 78,
   "id": "38c2f813",
   "metadata": {},
   "outputs": [
    {
     "name": "stdout",
     "output_type": "stream",
     "text": [
      "{}\n"
     ]
    }
   ],
   "source": [
    "#Função clear() limpa/apaga todo conteúdo do dicionário:\n",
    "\n",
    "dicio.clear()\n",
    "print(dicio)"
   ]
  },
  {
   "cell_type": "markdown",
   "id": "2fc15f7c",
   "metadata": {},
   "source": [
    "   <br> <br> Este foi um resumo dos conteúdos da aula 10 do módulo II do curso Programador com Python."
   ]
  },
  {
   "cell_type": "markdown",
   "id": "8642ce86",
   "metadata": {},
   "source": [
    "Luísa Linhares"
   ]
  }
 ],
 "metadata": {
  "kernelspec": {
   "display_name": "Python 3 (ipykernel)",
   "language": "python",
   "name": "python3"
  },
  "language_info": {
   "codemirror_mode": {
    "name": "ipython",
    "version": 3
   },
   "file_extension": ".py",
   "mimetype": "text/x-python",
   "name": "python",
   "nbconvert_exporter": "python",
   "pygments_lexer": "ipython3",
   "version": "3.11.5"
  }
 },
 "nbformat": 4,
 "nbformat_minor": 5
}
