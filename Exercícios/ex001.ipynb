{
 "cells": [
  {
   "cell_type": "code",
   "execution_count": 4,
   "id": "0edddc7d",
   "metadata": {},
   "outputs": [
    {
     "name": "stdout",
     "output_type": "stream",
     "text": [
      "Qual seu nome?Taíssa\n",
      "Qual sua idade?24\n",
      "Taíssa já viveu mais de  8760 dias.\n"
     ]
    }
   ],
   "source": [
    "nome = input('Qual seu nome? ')\n",
    "idade = int (input('Qual sua idade? '))\n",
    "dias = idade*365\n",
    "print (nome, 'já viveu mais de ', dias, 'dias.')"
   ]
  }
 ],
 "metadata": {
  "kernelspec": {
   "display_name": "Python 3 (ipykernel)",
   "language": "python",
   "name": "python3"
  },
  "language_info": {
   "codemirror_mode": {
    "name": "ipython",
    "version": 3
   },
   "file_extension": ".py",
   "mimetype": "text/x-python",
   "name": "python",
   "nbconvert_exporter": "python",
   "pygments_lexer": "ipython3",
   "version": "3.11.5"
  }
 },
 "nbformat": 4,
 "nbformat_minor": 5
}
